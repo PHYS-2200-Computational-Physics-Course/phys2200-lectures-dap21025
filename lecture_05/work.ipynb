{
 "cells": [
  {
   "cell_type": "code",
   "execution_count": 4,
   "id": "460e7e6e-8e37-43c7-a2c8-e893161fffaa",
   "metadata": {},
   "outputs": [
    {
     "data": {
      "text/plain": [
       "myfib (generic function with 1 method)"
      ]
     },
     "execution_count": 4,
     "metadata": {},
     "output_type": "execute_result"
    }
   ],
   "source": [
    "function myfib(n)\n",
    "    fp = 1\n",
    "    if n == 1\n",
    "        return fp\n",
    "    end\n",
    "\n",
    "    fc = 1\n",
    "    if n == 2\n",
    "        return fc\n",
    "    end\n",
    "\n",
    "    for i = 3:n\n",
    "        fc, fp = fc + fp, fc\n",
    "    end\n",
    "\n",
    "    return fc\n",
    "end"
   ]
  },
  {
   "cell_type": "code",
   "execution_count": 5,
   "id": "c60d53a7-7114-4263-b096-f96cd916fa39",
   "metadata": {},
   "outputs": [
    {
     "data": {
      "text/plain": [
       "6-element Vector{Int64}:\n",
       "  5\n",
       "  8\n",
       " 13\n",
       " 21\n",
       " 34\n",
       " 55"
      ]
     },
     "execution_count": 5,
     "metadata": {},
     "output_type": "execute_result"
    }
   ],
   "source": [
    "myfib.(5:10)"
   ]
  },
  {
   "cell_type": "code",
   "execution_count": 6,
   "id": "005c046b-63fb-4f80-8610-6fe4ddba45bd",
   "metadata": {},
   "outputs": [
    {
     "data": {
      "text/plain": [
       "myfib_recursive (generic function with 1 method)"
      ]
     },
     "execution_count": 6,
     "metadata": {},
     "output_type": "execute_result"
    }
   ],
   "source": [
    "function myfib_recursive(n);\n",
    "    \"\"\"\n",
    "Calculate Fibonacci number F_n using the _recurrence relation_\n",
    "F_1 = 1, F_2 = 1, and F_n = F_n-1 + F_n-2 for n > 2, \n",
    "and recursive function calls. \n",
    "\"\"\"\n",
    "    fp = 1\n",
    "    if n == 1 || n == 2\n",
    "        return fp\n",
    "    end\n",
    "\n",
    "    return myfib_recursive(n-1) + myfib_recursive(n-2)\n",
    "end"
   ]
  },
  {
   "cell_type": "code",
   "execution_count": 7,
   "id": "b162d3b9-d926-42d6-bc82-1f2f5bfdd878",
   "metadata": {},
   "outputs": [
    {
     "data": {
      "text/plain": [
       "5"
      ]
     },
     "execution_count": 7,
     "metadata": {},
     "output_type": "execute_result"
    }
   ],
   "source": [
    "myfib_recursive(5)"
   ]
  },
  {
   "cell_type": "code",
   "execution_count": 8,
   "id": "d8fa64b5-806f-4567-80b0-278b46625a96",
   "metadata": {},
   "outputs": [
    {
     "name": "stdout",
     "output_type": "stream",
     "text": [
      "  0.000000 seconds\n"
     ]
    },
    {
     "data": {
      "text/plain": [
       "55"
      ]
     },
     "execution_count": 8,
     "metadata": {},
     "output_type": "execute_result"
    }
   ],
   "source": [
    "@time myfib(10)"
   ]
  },
  {
   "cell_type": "code",
   "execution_count": 9,
   "id": "397604aa-0e5a-49fa-b0f2-0f874b1784c6",
   "metadata": {},
   "outputs": [
    {
     "name": "stdout",
     "output_type": "stream",
     "text": [
      "  0.000001 seconds\n"
     ]
    },
    {
     "data": {
      "text/plain": [
       "55"
      ]
     },
     "execution_count": 9,
     "metadata": {},
     "output_type": "execute_result"
    }
   ],
   "source": [
    "@time myfib_recursive(10)"
   ]
  },
  {
   "cell_type": "code",
   "execution_count": 11,
   "id": "361c10fc-f374-4dec-a411-02e156224de0",
   "metadata": {},
   "outputs": [
    {
     "name": "stdout",
     "output_type": "stream",
     "text": [
      "s == myfib(n) * myfib(n + 1) = true\n",
      "s == myfib(n) * myfib(n + 1) = true\n",
      "s == myfib(n) * myfib(n + 1) = true\n"
     ]
    }
   ],
   "source": [
    "for n = (10, 15, 20)\n",
    "    s = 0\n",
    "    for i = (1:n)\n",
    "        s += (myfib(i))^2\n",
    "    end\n",
    "    @show s == myfib(n) * myfib(n+1)\n",
    "end"
   ]
  },
  {
   "cell_type": "code",
   "execution_count": null,
   "id": "f948d6ba-c66c-4ab0-8699-46bda4ae8b2b",
   "metadata": {},
   "outputs": [],
   "source": []
  }
 ],
 "metadata": {
  "kernelspec": {
   "display_name": "Julia 1.11.6",
   "language": "julia",
   "name": "julia-1.11"
  },
  "language_info": {
   "file_extension": ".jl",
   "mimetype": "application/julia",
   "name": "julia",
   "version": "1.11.6"
  }
 },
 "nbformat": 4,
 "nbformat_minor": 5
}
