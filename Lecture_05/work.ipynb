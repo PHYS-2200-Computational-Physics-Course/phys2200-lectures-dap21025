{
 "cells": [
  {
   "cell_type": "code",
   "execution_count": 8,
   "id": "460e7e6e-8e37-43c7-a2c8-e893161fffaa",
   "metadata": {},
   "outputs": [
    {
     "data": {
      "text/plain": [
       "myfib (generic function with 1 method)"
      ]
     },
     "execution_count": 8,
     "metadata": {},
     "output_type": "execute_result"
    }
   ],
   "source": [
    "function myfib(n)\n",
    "    fp = 1\n",
    "    if n == 1\n",
    "        return fp\n",
    "    end\n",
    "\n",
    "    fc = 1\n",
    "    if n == 2\n",
    "        return fc\n",
    "    end\n",
    "\n",
    "    for i = 3:n\n",
    "        fc, fp = fc + fp, fc\n",
    "    end\n",
    "\n",
    "    return fc\n",
    "end"
   ]
  },
  {
   "cell_type": "code",
   "execution_count": 9,
   "id": "c60d53a7-7114-4263-b096-f96cd916fa39",
   "metadata": {},
   "outputs": [
    {
     "data": {
      "text/plain": [
       "18-element Vector{Int64}:\n",
       "    2\n",
       "    3\n",
       "    5\n",
       "    8\n",
       "   13\n",
       "   21\n",
       "   34\n",
       "   55\n",
       "   89\n",
       "  144\n",
       "  233\n",
       "  377\n",
       "  610\n",
       "  987\n",
       " 1597\n",
       " 2584\n",
       " 4181\n",
       " 6765"
      ]
     },
     "execution_count": 9,
     "metadata": {},
     "output_type": "execute_result"
    }
   ],
   "source": [
    "myfib.(3:20)"
   ]
  },
  {
   "cell_type": "code",
   "execution_count": null,
   "id": "005c046b-63fb-4f80-8610-6fe4ddba45bd",
   "metadata": {},
   "outputs": [],
   "source": []
  }
 ],
 "metadata": {
  "kernelspec": {
   "display_name": "Julia 1.11.6",
   "language": "julia",
   "name": "julia-1.11"
  },
  "language_info": {
   "file_extension": ".jl",
   "mimetype": "application/julia",
   "name": "julia",
   "version": "1.11.6"
  }
 },
 "nbformat": 4,
 "nbformat_minor": 5
}
