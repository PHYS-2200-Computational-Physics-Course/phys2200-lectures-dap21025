{
 "cells": [
  {
   "cell_type": "code",
   "execution_count": 1,
   "id": "04ab2904-a677-4d2b-9020-689aebb5d6d1",
   "metadata": {},
   "outputs": [
    {
     "data": {
      "text/plain": [
       "mybase1 (generic function with 1 method)"
      ]
     },
     "execution_count": 1,
     "metadata": {},
     "output_type": "execute_result"
    }
   ],
   "source": [
    "function mybase1(N)\n",
    "    s=0.0\n",
    "    for n = 1:N\n",
    "        s+=1/n^2\n",
    "    end\n",
    "    return s\n",
    "end"
   ]
  },
  {
   "cell_type": "code",
   "execution_count": 5,
   "id": "5e910f42-2507-48aa-9293-ef21a2405f93",
   "metadata": {},
   "outputs": [
    {
     "data": {
      "text/plain": [
       "0.0005"
      ]
     },
     "execution_count": 5,
     "metadata": {},
     "output_type": "execute_result"
    }
   ],
   "source": [
    "round(abs(mybase1(2000)-pi^2/6), sigdigits = 1)"
   ]
  },
  {
   "cell_type": "code",
   "execution_count": null,
   "id": "62310b8e-d0c7-4e4b-8ee9-cc833fd1f78a",
   "metadata": {},
   "outputs": [],
   "source": []
  }
 ],
 "metadata": {
  "kernelspec": {
   "display_name": "Julia 1.11.6",
   "language": "julia",
   "name": "julia-1.11"
  },
  "language_info": {
   "file_extension": ".jl",
   "mimetype": "application/julia",
   "name": "julia",
   "version": "1.11.6"
  }
 },
 "nbformat": 4,
 "nbformat_minor": 5
}
